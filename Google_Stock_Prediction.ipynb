{
 "cells": [
  {
   "cell_type": "raw",
   "id": "88f3e658",
   "metadata": {},
   "source": [
    "AUTHOR : YOGYATA CHAUBEY\n",
    "AIM : Stock Price Prediction Using LSTM"
   ]
  },
  {
   "cell_type": "code",
   "execution_count": 72,
   "id": "c62f9fc1",
   "metadata": {},
   "outputs": [],
   "source": [
    "import os\n",
    "import numpy as np\n",
    "import pandas as pd\n",
    "import matplotlib.pyplot as plt \n",
    "%matplotlib inline\n",
    "from sklearn.preprocessing import MinMaxScaler\n",
    "from keras.models import Sequential\n",
    "from keras.layers import Dense,LSTM,Dropout"
   ]
  },
  {
   "cell_type": "code",
   "execution_count": 73,
   "id": "2005aee7",
   "metadata": {},
   "outputs": [
    {
     "data": {
      "text/html": [
       "<div>\n",
       "<style scoped>\n",
       "    .dataframe tbody tr th:only-of-type {\n",
       "        vertical-align: middle;\n",
       "    }\n",
       "\n",
       "    .dataframe tbody tr th {\n",
       "        vertical-align: top;\n",
       "    }\n",
       "\n",
       "    .dataframe thead th {\n",
       "        text-align: right;\n",
       "    }\n",
       "</style>\n",
       "<table border=\"1\" class=\"dataframe\">\n",
       "  <thead>\n",
       "    <tr style=\"text-align: right;\">\n",
       "      <th></th>\n",
       "      <th>Date</th>\n",
       "      <th>Open</th>\n",
       "      <th>High</th>\n",
       "      <th>Low</th>\n",
       "      <th>Close</th>\n",
       "      <th>Volume</th>\n",
       "    </tr>\n",
       "  </thead>\n",
       "  <tbody>\n",
       "    <tr>\n",
       "      <th>0</th>\n",
       "      <td>1/3/2012</td>\n",
       "      <td>325.25</td>\n",
       "      <td>332.83</td>\n",
       "      <td>324.97</td>\n",
       "      <td>663.59</td>\n",
       "      <td>7,380,500</td>\n",
       "    </tr>\n",
       "    <tr>\n",
       "      <th>1</th>\n",
       "      <td>1/4/2012</td>\n",
       "      <td>331.27</td>\n",
       "      <td>333.87</td>\n",
       "      <td>329.08</td>\n",
       "      <td>666.45</td>\n",
       "      <td>5,749,400</td>\n",
       "    </tr>\n",
       "    <tr>\n",
       "      <th>2</th>\n",
       "      <td>1/5/2012</td>\n",
       "      <td>329.83</td>\n",
       "      <td>330.75</td>\n",
       "      <td>326.89</td>\n",
       "      <td>657.21</td>\n",
       "      <td>6,590,300</td>\n",
       "    </tr>\n",
       "    <tr>\n",
       "      <th>3</th>\n",
       "      <td>1/6/2012</td>\n",
       "      <td>328.34</td>\n",
       "      <td>328.77</td>\n",
       "      <td>323.68</td>\n",
       "      <td>648.24</td>\n",
       "      <td>5,405,900</td>\n",
       "    </tr>\n",
       "    <tr>\n",
       "      <th>4</th>\n",
       "      <td>1/9/2012</td>\n",
       "      <td>322.04</td>\n",
       "      <td>322.29</td>\n",
       "      <td>309.46</td>\n",
       "      <td>620.76</td>\n",
       "      <td>11,688,800</td>\n",
       "    </tr>\n",
       "  </tbody>\n",
       "</table>\n",
       "</div>"
      ],
      "text/plain": [
       "       Date    Open    High     Low   Close      Volume\n",
       "0  1/3/2012  325.25  332.83  324.97  663.59   7,380,500\n",
       "1  1/4/2012  331.27  333.87  329.08  666.45   5,749,400\n",
       "2  1/5/2012  329.83  330.75  326.89  657.21   6,590,300\n",
       "3  1/6/2012  328.34  328.77  323.68  648.24   5,405,900\n",
       "4  1/9/2012  322.04  322.29  309.46  620.76  11,688,800"
      ]
     },
     "execution_count": 73,
     "metadata": {},
     "output_type": "execute_result"
    }
   ],
   "source": [
    "# Loading The Training Dataset\n",
    "# The Google training data has information from 3 Jan 2012 to 30 Dec 2016. \n",
    "\n",
    "df_train= pd.read_csv(\"Google_train_data.csv\")\n",
    "df_train.head()\n"
   ]
  },
  {
   "cell_type": "code",
   "execution_count": 74,
   "id": "edd861ad",
   "metadata": {},
   "outputs": [
    {
     "name": "stdout",
     "output_type": "stream",
     "text": [
      "<class 'pandas.core.frame.DataFrame'>\n",
      "RangeIndex: 1258 entries, 0 to 1257\n",
      "Data columns (total 6 columns):\n",
      " #   Column  Non-Null Count  Dtype  \n",
      "---  ------  --------------  -----  \n",
      " 0   Date    1258 non-null   object \n",
      " 1   Open    1258 non-null   float64\n",
      " 2   High    1258 non-null   float64\n",
      " 3   Low     1258 non-null   float64\n",
      " 4   Close   1258 non-null   object \n",
      " 5   Volume  1258 non-null   object \n",
      "dtypes: float64(3), object(3)\n",
      "memory usage: 59.1+ KB\n"
     ]
    }
   ],
   "source": [
    "df_train.info()"
   ]
  },
  {
   "cell_type": "code",
   "execution_count": 75,
   "id": "f976b774",
   "metadata": {},
   "outputs": [
    {
     "data": {
      "text/html": [
       "<div>\n",
       "<style scoped>\n",
       "    .dataframe tbody tr th:only-of-type {\n",
       "        vertical-align: middle;\n",
       "    }\n",
       "\n",
       "    .dataframe tbody tr th {\n",
       "        vertical-align: top;\n",
       "    }\n",
       "\n",
       "    .dataframe thead th {\n",
       "        text-align: right;\n",
       "    }\n",
       "</style>\n",
       "<table border=\"1\" class=\"dataframe\">\n",
       "  <thead>\n",
       "    <tr style=\"text-align: right;\">\n",
       "      <th></th>\n",
       "      <th>Open</th>\n",
       "      <th>High</th>\n",
       "      <th>Low</th>\n",
       "    </tr>\n",
       "  </thead>\n",
       "  <tbody>\n",
       "    <tr>\n",
       "      <th>count</th>\n",
       "      <td>1258.000000</td>\n",
       "      <td>1258.000000</td>\n",
       "      <td>1258.000000</td>\n",
       "    </tr>\n",
       "    <tr>\n",
       "      <th>mean</th>\n",
       "      <td>533.709833</td>\n",
       "      <td>537.880223</td>\n",
       "      <td>529.007409</td>\n",
       "    </tr>\n",
       "    <tr>\n",
       "      <th>std</th>\n",
       "      <td>151.904442</td>\n",
       "      <td>153.008811</td>\n",
       "      <td>150.552807</td>\n",
       "    </tr>\n",
       "    <tr>\n",
       "      <th>min</th>\n",
       "      <td>279.120000</td>\n",
       "      <td>281.210000</td>\n",
       "      <td>277.220000</td>\n",
       "    </tr>\n",
       "    <tr>\n",
       "      <th>25%</th>\n",
       "      <td>404.115000</td>\n",
       "      <td>406.765000</td>\n",
       "      <td>401.765000</td>\n",
       "    </tr>\n",
       "    <tr>\n",
       "      <th>50%</th>\n",
       "      <td>537.470000</td>\n",
       "      <td>540.750000</td>\n",
       "      <td>532.990000</td>\n",
       "    </tr>\n",
       "    <tr>\n",
       "      <th>75%</th>\n",
       "      <td>654.922500</td>\n",
       "      <td>662.587500</td>\n",
       "      <td>644.800000</td>\n",
       "    </tr>\n",
       "    <tr>\n",
       "      <th>max</th>\n",
       "      <td>816.680000</td>\n",
       "      <td>816.680000</td>\n",
       "      <td>805.140000</td>\n",
       "    </tr>\n",
       "  </tbody>\n",
       "</table>\n",
       "</div>"
      ],
      "text/plain": [
       "              Open         High          Low\n",
       "count  1258.000000  1258.000000  1258.000000\n",
       "mean    533.709833   537.880223   529.007409\n",
       "std     151.904442   153.008811   150.552807\n",
       "min     279.120000   281.210000   277.220000\n",
       "25%     404.115000   406.765000   401.765000\n",
       "50%     537.470000   540.750000   532.990000\n",
       "75%     654.922500   662.587500   644.800000\n",
       "max     816.680000   816.680000   805.140000"
      ]
     },
     "execution_count": 75,
     "metadata": {},
     "output_type": "execute_result"
    }
   ],
   "source": [
    "df_train.describe()"
   ]
  },
  {
   "cell_type": "code",
   "execution_count": 76,
   "id": "626e766e",
   "metadata": {},
   "outputs": [],
   "source": [
    "df_train[\"Close\"]=pd.to_numeric(df_train.Close,errors='coerce')\n",
    "data = df_train.dropna()\n",
    "trainData = df_train.iloc[:,4:5].values"
   ]
  },
  {
   "cell_type": "code",
   "execution_count": 77,
   "id": "7ec47c26",
   "metadata": {},
   "outputs": [
    {
     "name": "stdout",
     "output_type": "stream",
     "text": [
      "<class 'pandas.core.frame.DataFrame'>\n",
      "RangeIndex: 1258 entries, 0 to 1257\n",
      "Data columns (total 6 columns):\n",
      " #   Column  Non-Null Count  Dtype  \n",
      "---  ------  --------------  -----  \n",
      " 0   Date    1258 non-null   object \n",
      " 1   Open    1258 non-null   float64\n",
      " 2   High    1258 non-null   float64\n",
      " 3   Low     1258 non-null   float64\n",
      " 4   Close   1149 non-null   float64\n",
      " 5   Volume  1258 non-null   object \n",
      "dtypes: float64(4), object(2)\n",
      "memory usage: 59.1+ KB\n"
     ]
    }
   ],
   "source": [
    "df_train.info()"
   ]
  },
  {
   "cell_type": "code",
   "execution_count": 78,
   "id": "2aa85903",
   "metadata": {},
   "outputs": [
    {
     "data": {
      "text/plain": [
       "(1258, 1)"
      ]
     },
     "execution_count": 78,
     "metadata": {},
     "output_type": "execute_result"
    }
   ],
   "source": [
    "# Use the Open Stock Price Column to Train the Model.\n",
    "\n",
    "sc = MinMaxScaler(feature_range=(0,1))\n",
    "trainData = sc.fit_transform(trainData)\n",
    "trainData.shape"
   ]
  },
  {
   "cell_type": "code",
   "execution_count": 79,
   "id": "2382ec8d",
   "metadata": {},
   "outputs": [],
   "source": [
    "X_train = []\n",
    "y_train = []\n",
    "\n",
    "for i in range (60,1149): #60 : timestep // 1149 : length of the data\n",
    "    X_train.append(trainData[i-60:i,0]) \n",
    "    y_train.append(trainData[i,0])\n",
    "\n",
    "X_train,y_train = np.array(X_train),np.array(y_train)"
   ]
  },
  {
   "cell_type": "code",
   "execution_count": 80,
   "id": "c08249d1",
   "metadata": {},
   "outputs": [
    {
     "data": {
      "text/plain": [
       "(1089, 60, 1)"
      ]
     },
     "execution_count": 80,
     "metadata": {},
     "output_type": "execute_result"
    }
   ],
   "source": [
    "X_train = np.reshape(X_train,(X_train.shape[0],X_train.shape[1],1)) #adding the batch_size axis\n",
    "X_train.shape"
   ]
  },
  {
   "cell_type": "code",
   "execution_count": 81,
   "id": "08b245d4",
   "metadata": {},
   "outputs": [],
   "source": [
    "model = Sequential()\n",
    "\n",
    "model.add(LSTM(units=100, return_sequences = True, input_shape =(X_train.shape[1],1)))\n",
    "model.add(Dropout(0.2))\n",
    "\n",
    "model.add(LSTM(units=100, return_sequences = True))\n",
    "model.add(Dropout(0.2))\n",
    "\n",
    "model.add(LSTM(units=100, return_sequences = True))\n",
    "model.add(Dropout(0.2))\n",
    "\n",
    "model.add(LSTM(units=100, return_sequences = False))\n",
    "model.add(Dropout(0.2))\n",
    "\n",
    "model.add(Dense(units =1))\n",
    "model.compile(optimizer='adam',loss=\"mean_squared_error\")"
   ]
  },
  {
   "cell_type": "code",
   "execution_count": 82,
   "id": "10b973a4",
   "metadata": {},
   "outputs": [
    {
     "name": "stdout",
     "output_type": "stream",
     "text": [
      "Epoch 1/20\n",
      "35/35 - 32s - loss: nan - 32s/epoch - 920ms/step\n",
      "Epoch 2/20\n",
      "35/35 - 13s - loss: nan - 13s/epoch - 369ms/step\n",
      "Epoch 3/20\n",
      "35/35 - 13s - loss: nan - 13s/epoch - 362ms/step\n",
      "Epoch 4/20\n",
      "35/35 - 12s - loss: nan - 12s/epoch - 345ms/step\n",
      "Epoch 5/20\n",
      "35/35 - 13s - loss: nan - 13s/epoch - 363ms/step\n",
      "Epoch 6/20\n",
      "35/35 - 13s - loss: nan - 13s/epoch - 359ms/step\n",
      "Epoch 7/20\n",
      "35/35 - 12s - loss: nan - 12s/epoch - 351ms/step\n",
      "Epoch 8/20\n",
      "35/35 - 12s - loss: nan - 12s/epoch - 355ms/step\n",
      "Epoch 9/20\n",
      "35/35 - 13s - loss: nan - 13s/epoch - 364ms/step\n",
      "Epoch 10/20\n",
      "35/35 - 13s - loss: nan - 13s/epoch - 357ms/step\n",
      "Epoch 11/20\n",
      "35/35 - 13s - loss: nan - 13s/epoch - 362ms/step\n",
      "Epoch 12/20\n",
      "35/35 - 13s - loss: nan - 13s/epoch - 358ms/step\n",
      "Epoch 13/20\n",
      "35/35 - 13s - loss: nan - 13s/epoch - 358ms/step\n",
      "Epoch 14/20\n",
      "35/35 - 13s - loss: nan - 13s/epoch - 361ms/step\n",
      "Epoch 15/20\n",
      "35/35 - 12s - loss: nan - 12s/epoch - 347ms/step\n",
      "Epoch 16/20\n",
      "35/35 - 13s - loss: nan - 13s/epoch - 364ms/step\n",
      "Epoch 17/20\n",
      "35/35 - 13s - loss: nan - 13s/epoch - 359ms/step\n",
      "Epoch 18/20\n",
      "35/35 - 13s - loss: nan - 13s/epoch - 362ms/step\n",
      "Epoch 19/20\n",
      "35/35 - 13s - loss: nan - 13s/epoch - 360ms/step\n",
      "Epoch 20/20\n",
      "35/35 - 59s - loss: nan - 59s/epoch - 2s/step\n"
     ]
    }
   ],
   "source": [
    "hist = model.fit(X_train, y_train, epochs = 20, batch_size = 32, verbose=2)"
   ]
  },
  {
   "cell_type": "code",
   "execution_count": 83,
   "id": "345d030a",
   "metadata": {},
   "outputs": [
    {
     "data": {
      "image/png": "[encoded data removed]",
      "text/plain": [
       "<Figure size 432x288 with 1 Axes>"
      ]
     },
     "metadata": {
      "needs_background": "light"
     },
     "output_type": "display_data"
    }
   ],
   "source": [
    "plt.plot(hist.history['loss'])\n",
    "plt.title('Training model loss')\n",
    "plt.ylabel('loss')\n",
    "plt.xlabel('epoch')\n",
    "plt.legend(['train'], loc='upper left')\n",
    "plt.show()"
   ]
  },
  {
   "cell_type": "code",
   "execution_count": 84,
   "id": "09c54ee4",
   "metadata": {},
   "outputs": [
    {
     "data": {
      "text/plain": [
       "(192, 60, 1)"
      ]
     },
     "execution_count": 84,
     "metadata": {},
     "output_type": "execute_result"
    }
   ],
   "source": [
    "testData = pd.read_csv('Google_test_data.csv')\n",
    "testData[\"Close\"]=pd.to_numeric(testData.Close,errors='coerce')\n",
    "testData = testData.dropna()\n",
    "testData = testData.iloc[:,4:5]\n",
    "y_test = testData.iloc[60:,0:].values \n",
    "#input array for the model\n",
    "inputClosing = testData.iloc[:,0:].values \n",
    "inputClosing_scaled = sc.transform(inputClosing)\n",
    "inputClosing_scaled.shape\n",
    "X_test = []\n",
    "length = len(testData)\n",
    "timestep = 60\n",
    "for i in range(timestep,length):  \n",
    "    X_test.append(inputClosing_scaled[i-timestep:i,0])\n",
    "X_test = np.array(X_test)\n",
    "X_test = np.reshape(X_test,(X_test.shape[0],X_test.shape[1],1))\n",
    "X_test.shape"
   ]
  },
  {
   "cell_type": "code",
   "execution_count": 85,
   "id": "4adff1e9",
   "metadata": {},
   "outputs": [
    {
     "name": "stdout",
     "output_type": "stream",
     "text": [
      "6/6 [==============================] - 4s 125ms/step\n"
     ]
    },
    {
     "data": {
      "text/plain": [
       "array([[nan],\n",
       "       [nan],\n",
       "       [nan],\n",
       "       [nan],\n",
       "       [nan],\n",
       "       [nan],\n",
       "       [nan],\n",
       "       [nan],\n",
       "       [nan],\n",
       "       [nan],\n",
       "       [nan],\n",
       "       [nan],\n",
       "       [nan],\n",
       "       [nan],\n",
       "       [nan],\n",
       "       [nan],\n",
       "       [nan],\n",
       "       [nan],\n",
       "       [nan],\n",
       "       [nan],\n",
       "       [nan],\n",
       "       [nan],\n",
       "       [nan],\n",
       "       [nan],\n",
       "       [nan],\n",
       "       [nan],\n",
       "       [nan],\n",
       "       [nan],\n",
       "       [nan],\n",
       "       [nan],\n",
       "       [nan],\n",
       "       [nan],\n",
       "       [nan],\n",
       "       [nan],\n",
       "       [nan],\n",
       "       [nan],\n",
       "       [nan],\n",
       "       [nan],\n",
       "       [nan],\n",
       "       [nan],\n",
       "       [nan],\n",
       "       [nan],\n",
       "       [nan],\n",
       "       [nan],\n",
       "       [nan],\n",
       "       [nan],\n",
       "       [nan],\n",
       "       [nan],\n",
       "       [nan],\n",
       "       [nan],\n",
       "       [nan],\n",
       "       [nan],\n",
       "       [nan],\n",
       "       [nan],\n",
       "       [nan],\n",
       "       [nan],\n",
       "       [nan],\n",
       "       [nan],\n",
       "       [nan],\n",
       "       [nan],\n",
       "       [nan],\n",
       "       [nan],\n",
       "       [nan],\n",
       "       [nan],\n",
       "       [nan],\n",
       "       [nan],\n",
       "       [nan],\n",
       "       [nan],\n",
       "       [nan],\n",
       "       [nan],\n",
       "       [nan],\n",
       "       [nan],\n",
       "       [nan],\n",
       "       [nan],\n",
       "       [nan],\n",
       "       [nan],\n",
       "       [nan],\n",
       "       [nan],\n",
       "       [nan],\n",
       "       [nan],\n",
       "       [nan],\n",
       "       [nan],\n",
       "       [nan],\n",
       "       [nan],\n",
       "       [nan],\n",
       "       [nan],\n",
       "       [nan],\n",
       "       [nan],\n",
       "       [nan],\n",
       "       [nan],\n",
       "       [nan],\n",
       "       [nan],\n",
       "       [nan],\n",
       "       [nan],\n",
       "       [nan],\n",
       "       [nan],\n",
       "       [nan],\n",
       "       [nan],\n",
       "       [nan],\n",
       "       [nan],\n",
       "       [nan],\n",
       "       [nan],\n",
       "       [nan],\n",
       "       [nan],\n",
       "       [nan],\n",
       "       [nan],\n",
       "       [nan],\n",
       "       [nan],\n",
       "       [nan],\n",
       "       [nan],\n",
       "       [nan],\n",
       "       [nan],\n",
       "       [nan],\n",
       "       [nan],\n",
       "       [nan],\n",
       "       [nan],\n",
       "       [nan],\n",
       "       [nan],\n",
       "       [nan],\n",
       "       [nan],\n",
       "       [nan],\n",
       "       [nan],\n",
       "       [nan],\n",
       "       [nan],\n",
       "       [nan],\n",
       "       [nan],\n",
       "       [nan],\n",
       "       [nan],\n",
       "       [nan],\n",
       "       [nan],\n",
       "       [nan],\n",
       "       [nan],\n",
       "       [nan],\n",
       "       [nan],\n",
       "       [nan],\n",
       "       [nan],\n",
       "       [nan],\n",
       "       [nan],\n",
       "       [nan],\n",
       "       [nan],\n",
       "       [nan],\n",
       "       [nan],\n",
       "       [nan],\n",
       "       [nan],\n",
       "       [nan],\n",
       "       [nan],\n",
       "       [nan],\n",
       "       [nan],\n",
       "       [nan],\n",
       "       [nan],\n",
       "       [nan],\n",
       "       [nan],\n",
       "       [nan],\n",
       "       [nan],\n",
       "       [nan],\n",
       "       [nan],\n",
       "       [nan],\n",
       "       [nan],\n",
       "       [nan],\n",
       "       [nan],\n",
       "       [nan],\n",
       "       [nan],\n",
       "       [nan],\n",
       "       [nan],\n",
       "       [nan],\n",
       "       [nan],\n",
       "       [nan],\n",
       "       [nan],\n",
       "       [nan],\n",
       "       [nan],\n",
       "       [nan],\n",
       "       [nan],\n",
       "       [nan],\n",
       "       [nan],\n",
       "       [nan],\n",
       "       [nan],\n",
       "       [nan],\n",
       "       [nan],\n",
       "       [nan],\n",
       "       [nan],\n",
       "       [nan],\n",
       "       [nan],\n",
       "       [nan],\n",
       "       [nan],\n",
       "       [nan],\n",
       "       [nan],\n",
       "       [nan],\n",
       "       [nan],\n",
       "       [nan],\n",
       "       [nan],\n",
       "       [nan],\n",
       "       [nan]], dtype=float32)"
      ]
     },
     "execution_count": 85,
     "metadata": {},
     "output_type": "execute_result"
    }
   ],
   "source": [
    "y_pred = model.predict(X_test)\n",
    "y_pred"
   ]
  },
  {
   "cell_type": "code",
   "execution_count": 57,
   "id": "e7352d9d",
   "metadata": {},
   "outputs": [],
   "source": [
    "predicted_price = sc.inverse_transform(y_pred)"
   ]
  },
  {
   "cell_type": "code",
   "execution_count": 58,
   "id": "7c5099d1",
   "metadata": {},
   "outputs": [
    {
     "data": {
      "image/png": "[encoded data removed]",
      "text/plain": [
       "<Figure size 432x288 with 1 Axes>"
      ]
     },
     "metadata": {
      "needs_background": "light"
     },
     "output_type": "display_data"
    }
   ],
   "source": [
    "plt.plot(y_test, color = 'red', label = 'Actual Stock Price')\n",
    "plt.plot(predicted_price, color = 'green', label = 'Predicted Stock Price')\n",
    "plt.title('Google stock price prediction')\n",
    "plt.xlabel('Time')\n",
    "plt.ylabel('Stock Price')\n",
    "plt.legend()\n",
    "plt.show()"
   ]
  },
  {
   "cell_type": "code",
   "execution_count": 36,
   "id": "41dd421e",
   "metadata": {},
   "outputs": [
    {
     "name": "stdout",
     "output_type": "stream",
     "text": [
      "Epoch 1/100\n",
      "38/38 [==============================] - 26s 203ms/step - loss: 0.0402\n",
      "Epoch 2/100\n",
      "38/38 [==============================] - 8s 214ms/step - loss: 0.0065\n",
      "Epoch 3/100\n",
      "38/38 [==============================] - 8s 213ms/step - loss: 0.0058\n",
      "Epoch 4/100\n",
      "38/38 [==============================] - 8s 205ms/step - loss: 0.0053\n",
      "Epoch 5/100\n",
      "38/38 [==============================] - 8s 220ms/step - loss: 0.0052\n",
      "Epoch 6/100\n",
      "38/38 [==============================] - 8s 220ms/step - loss: 0.0050\n",
      "Epoch 7/100\n",
      "38/38 [==============================] - 8s 222ms/step - loss: 0.0046\n",
      "Epoch 8/100\n",
      "38/38 [==============================] - 8s 219ms/step - loss: 0.0049\n",
      "Epoch 9/100\n",
      "38/38 [==============================] - 8s 220ms/step - loss: 0.0040\n",
      "Epoch 10/100\n",
      "38/38 [==============================] - 8s 219ms/step - loss: 0.0044\n",
      "Epoch 11/100\n",
      "38/38 [==============================] - 8s 220ms/step - loss: 0.0043\n",
      "Epoch 12/100\n",
      "38/38 [==============================] - 8s 219ms/step - loss: 0.0040\n",
      "Epoch 13/100\n",
      "38/38 [==============================] - 8s 220ms/step - loss: 0.0041\n",
      "Epoch 14/100\n",
      "38/38 [==============================] - 8s 219ms/step - loss: 0.0038\n",
      "Epoch 15/100\n",
      "38/38 [==============================] - 8s 220ms/step - loss: 0.0042\n",
      "Epoch 16/100\n",
      "38/38 [==============================] - 8s 219ms/step - loss: 0.0040\n",
      "Epoch 17/100\n",
      "38/38 [==============================] - 8s 219ms/step - loss: 0.0044\n",
      "Epoch 18/100\n",
      "38/38 [==============================] - 8s 220ms/step - loss: 0.0041\n",
      "Epoch 19/100\n",
      "38/38 [==============================] - 8s 220ms/step - loss: 0.0034\n",
      "Epoch 20/100\n",
      "38/38 [==============================] - 8s 219ms/step - loss: 0.0036\n",
      "Epoch 21/100\n",
      "38/38 [==============================] - 8s 219ms/step - loss: 0.0035\n",
      "Epoch 22/100\n",
      "38/38 [==============================] - 8s 211ms/step - loss: 0.0034\n",
      "Epoch 23/100\n",
      "38/38 [==============================] - 8s 217ms/step - loss: 0.0034\n",
      "Epoch 24/100\n",
      "38/38 [==============================] - 8s 219ms/step - loss: 0.0031\n",
      "Epoch 25/100\n",
      "38/38 [==============================] - 8s 219ms/step - loss: 0.0034\n",
      "Epoch 26/100\n",
      "38/38 [==============================] - 8s 218ms/step - loss: 0.0032\n",
      "Epoch 27/100\n",
      "38/38 [==============================] - 8s 218ms/step - loss: 0.0032\n",
      "Epoch 28/100\n",
      "38/38 [==============================] - 8s 218ms/step - loss: 0.0033\n",
      "Epoch 29/100\n",
      "38/38 [==============================] - 8s 218ms/step - loss: 0.0035\n",
      "Epoch 30/100\n",
      "38/38 [==============================] - 8s 215ms/step - loss: 0.0030\n",
      "Epoch 31/100\n",
      "38/38 [==============================] - 8s 219ms/step - loss: 0.0037\n",
      "Epoch 32/100\n",
      "38/38 [==============================] - 8s 218ms/step - loss: 0.0031\n",
      "Epoch 33/100\n",
      "38/38 [==============================] - 8s 219ms/step - loss: 0.0030\n",
      "Epoch 34/100\n",
      "38/38 [==============================] - 8s 218ms/step - loss: 0.0027\n",
      "Epoch 35/100\n",
      "38/38 [==============================] - 8s 220ms/step - loss: 0.0029\n",
      "Epoch 36/100\n",
      "38/38 [==============================] - 8s 220ms/step - loss: 0.0028\n",
      "Epoch 37/100\n",
      "38/38 [==============================] - 8s 219ms/step - loss: 0.0030\n",
      "Epoch 38/100\n",
      "38/38 [==============================] - 8s 218ms/step - loss: 0.0027\n",
      "Epoch 39/100\n",
      "38/38 [==============================] - 8s 218ms/step - loss: 0.0028\n",
      "Epoch 40/100\n",
      "38/38 [==============================] - 8s 219ms/step - loss: 0.0025\n",
      "Epoch 41/100\n",
      "38/38 [==============================] - 8s 218ms/step - loss: 0.0027\n",
      "Epoch 42/100\n",
      "38/38 [==============================] - 8s 219ms/step - loss: 0.0025\n",
      "Epoch 43/100\n",
      "38/38 [==============================] - 8s 220ms/step - loss: 0.0026\n",
      "Epoch 44/100\n",
      "38/38 [==============================] - 8s 218ms/step - loss: 0.0026\n",
      "Epoch 45/100\n",
      "38/38 [==============================] - 8s 219ms/step - loss: 0.0027\n",
      "Epoch 46/100\n",
      "38/38 [==============================] - 8s 218ms/step - loss: 0.0027\n",
      "Epoch 47/100\n",
      "38/38 [==============================] - 8s 218ms/step - loss: 0.0024\n",
      "Epoch 48/100\n",
      "38/38 [==============================] - 8s 218ms/step - loss: 0.0023\n",
      "Epoch 49/100\n",
      "38/38 [==============================] - 8s 219ms/step - loss: 0.0024\n",
      "Epoch 50/100\n",
      "38/38 [==============================] - 8s 218ms/step - loss: 0.0023\n",
      "Epoch 51/100\n",
      "38/38 [==============================] - 8s 219ms/step - loss: 0.0025\n",
      "Epoch 52/100\n",
      "38/38 [==============================] - 8s 209ms/step - loss: 0.0024\n",
      "Epoch 53/100\n",
      "38/38 [==============================] - 8s 218ms/step - loss: 0.0021\n",
      "Epoch 54/100\n",
      "38/38 [==============================] - 8s 219ms/step - loss: 0.0023\n",
      "Epoch 55/100\n",
      "38/38 [==============================] - 8s 208ms/step - loss: 0.0024\n",
      "Epoch 56/100\n",
      "38/38 [==============================] - 8s 218ms/step - loss: 0.0020\n",
      "Epoch 57/100\n",
      "38/38 [==============================] - 8s 218ms/step - loss: 0.0021\n",
      "Epoch 58/100\n",
      "38/38 [==============================] - 8s 218ms/step - loss: 0.0021\n",
      "Epoch 59/100\n",
      "38/38 [==============================] - 8s 218ms/step - loss: 0.0023\n",
      "Epoch 60/100\n",
      "38/38 [==============================] - 8s 218ms/step - loss: 0.0020\n",
      "Epoch 61/100\n",
      "38/38 [==============================] - 8s 218ms/step - loss: 0.0019\n",
      "Epoch 62/100\n",
      "38/38 [==============================] - 8s 218ms/step - loss: 0.0021\n",
      "Epoch 63/100\n",
      "38/38 [==============================] - 8s 218ms/step - loss: 0.0020\n",
      "Epoch 64/100\n",
      "38/38 [==============================] - 8s 218ms/step - loss: 0.0021\n",
      "Epoch 65/100\n",
      "38/38 [==============================] - 8s 217ms/step - loss: 0.0017\n",
      "Epoch 66/100\n",
      "38/38 [==============================] - 8s 218ms/step - loss: 0.0020\n",
      "Epoch 67/100\n",
      "38/38 [==============================] - 8s 218ms/step - loss: 0.0020\n",
      "Epoch 68/100\n",
      "38/38 [==============================] - 8s 218ms/step - loss: 0.0021\n",
      "Epoch 69/100\n",
      "38/38 [==============================] - 8s 218ms/step - loss: 0.0019\n",
      "Epoch 70/100\n",
      "38/38 [==============================] - 8s 218ms/step - loss: 0.0017\n",
      "Epoch 71/100\n",
      "38/38 [==============================] - 8s 218ms/step - loss: 0.0020\n",
      "Epoch 72/100\n",
      "38/38 [==============================] - 8s 218ms/step - loss: 0.0019\n",
      "Epoch 73/100\n",
      "38/38 [==============================] - 8s 218ms/step - loss: 0.0018\n",
      "Epoch 74/100\n",
      "38/38 [==============================] - 8s 219ms/step - loss: 0.0018\n",
      "Epoch 75/100\n",
      "38/38 [==============================] - 8s 218ms/step - loss: 0.0021\n",
      "Epoch 76/100\n",
      "38/38 [==============================] - 8s 219ms/step - loss: 0.0018\n",
      "Epoch 77/100\n",
      "38/38 [==============================] - 8s 216ms/step - loss: 0.0019\n",
      "Epoch 78/100\n",
      "38/38 [==============================] - 8s 213ms/step - loss: 0.0018\n",
      "Epoch 79/100\n",
      "38/38 [==============================] - 8s 210ms/step - loss: 0.0021\n",
      "Epoch 80/100\n",
      "38/38 [==============================] - 8s 218ms/step - loss: 0.0017\n",
      "Epoch 81/100\n",
      "38/38 [==============================] - 8s 218ms/step - loss: 0.0017\n",
      "Epoch 82/100\n",
      "38/38 [==============================] - 8s 219ms/step - loss: 0.0017\n",
      "Epoch 83/100\n",
      "38/38 [==============================] - 8s 217ms/step - loss: 0.0016\n",
      "Epoch 84/100\n",
      "38/38 [==============================] - 8s 218ms/step - loss: 0.0020\n",
      "Epoch 85/100\n",
      "38/38 [==============================] - 8s 217ms/step - loss: 0.0016\n",
      "Epoch 86/100\n",
      "38/38 [==============================] - 8s 217ms/step - loss: 0.0016\n",
      "Epoch 87/100\n",
      "38/38 [==============================] - 8s 218ms/step - loss: 0.0017\n",
      "Epoch 88/100\n",
      "38/38 [==============================] - 8s 215ms/step - loss: 0.0017\n",
      "Epoch 89/100\n",
      "38/38 [==============================] - 8s 212ms/step - loss: 0.0016\n",
      "Epoch 90/100\n",
      "38/38 [==============================] - 8s 212ms/step - loss: 0.0018\n",
      "Epoch 91/100\n",
      "38/38 [==============================] - 8s 212ms/step - loss: 0.0016\n",
      "Epoch 92/100\n",
      "38/38 [==============================] - 8s 218ms/step - loss: 0.0015\n",
      "Epoch 93/100\n",
      "38/38 [==============================] - 8s 219ms/step - loss: 0.0015\n",
      "Epoch 94/100\n",
      "38/38 [==============================] - 8s 214ms/step - loss: 0.0016\n",
      "Epoch 95/100\n",
      "38/38 [==============================] - 8s 213ms/step - loss: 0.0015\n",
      "Epoch 96/100\n",
      "38/38 [==============================] - 8s 211ms/step - loss: 0.0016\n",
      "Epoch 97/100\n",
      "38/38 [==============================] - 8s 213ms/step - loss: 0.0015\n",
      "Epoch 98/100\n",
      "38/38 [==============================] - 8s 214ms/step - loss: 0.0014\n",
      "Epoch 99/100\n"
     ]
    },
    {
     "name": "stdout",
     "output_type": "stream",
     "text": [
      "38/38 [==============================] - 8s 215ms/step - loss: 0.0016\n",
      "Epoch 100/100\n",
      "38/38 [==============================] - 8s 215ms/step - loss: 0.0014\n"
     ]
    },
    {
     "data": {
      "text/plain": [
       "<keras.callbacks.History at 0x24f882e67c0>"
      ]
     },
     "execution_count": 36,
     "metadata": {},
     "output_type": "execute_result"
    }
   ],
   "source": []
  },
  {
   "cell_type": "code",
   "execution_count": 37,
   "id": "0b125fd0",
   "metadata": {},
   "outputs": [],
   "source": [
    "# Extracting the Actual Stock Prices of Jan-2017.\n",
    "\n",
    "df_test=pd.read_csv('Google_test_data.csv')\n",
    "actual_stock_price=df_test.iloc[:,1:2].values"
   ]
  },
  {
   "cell_type": "code",
   "execution_count": 38,
   "id": "929bff5f",
   "metadata": {},
   "outputs": [],
   "source": [
    "# Preparing the Input for the Model.\n",
    "\n",
    "dataset_total = pd.concat((df_train['Open'], df_test['Open']), axis=0)\n",
    "inputs = dataset_total[len(df_train)- len(df_test)- 60:].values\n",
    "\n",
    "inputs = inputs.reshape(-1,1)\n",
    "inputs = scaler.transform(inputs)\n",
    "\n",
    "X_test = []\n",
    "for i in range(60,80):\n",
    "    X_test.append(inputs[i-60:i,0])\n",
    "X_test = np.array(X_test)\n",
    "X_test = np.reshape(X_test,(X_test.shape[0],X_test.shape[1],1))\n"
   ]
  },
  {
   "cell_type": "code",
   "execution_count": 39,
   "id": "e465f653",
   "metadata": {},
   "outputs": [
    {
     "name": "stdout",
     "output_type": "stream",
     "text": [
      "1/1 [==============================] - 4s 4s/step\n"
     ]
    }
   ],
   "source": [
    "# Predicting the Values for Jan 2017 Stock Prices.\n",
    "predicted_stock_price=regressor.predict(X_test)\n",
    "predicted_stock_price=scaler.inverse_transform(predicted_stock_price)"
   ]
  },
  {
   "cell_type": "code",
   "execution_count": 40,
   "id": "a9058ef0",
   "metadata": {},
   "outputs": [
    {
     "data": {
      "text/plain": [
       "array([[765.9829 ],\n",
       "       [761.67474],\n",
       "       [754.30475],\n",
       "       [745.3003 ],\n",
       "       [738.3328 ],\n",
       "       [735.23016],\n",
       "       [732.2215 ],\n",
       "       [730.24286],\n",
       "       [731.2645 ],\n",
       "       [728.5435 ],\n",
       "       [720.6027 ],\n",
       "       [713.8251 ],\n",
       "       [707.6817 ],\n",
       "       [705.6407 ],\n",
       "       [711.0851 ],\n",
       "       [719.3502 ],\n",
       "       [723.4338 ],\n",
       "       [722.83435],\n",
       "       [721.7008 ],\n",
       "       [723.2552 ]], dtype=float32)"
      ]
     },
     "execution_count": 40,
     "metadata": {},
     "output_type": "execute_result"
    }
   ],
   "source": [
    "predicted_stock_price"
   ]
  },
  {
   "cell_type": "code",
   "execution_count": 53,
   "id": "b6ecf90f",
   "metadata": {},
   "outputs": [
    {
     "data": {
      "image/png": "[encoded data removed]",
      "text/plain": [
       "<Figure size 432x288 with 1 Axes>"
      ]
     },
     "metadata": {
      "needs_background": "light"
     },
     "output_type": "display_data"
    }
   ],
   "source": [
    "# Plotting the Actual and Predicted Prices for Google Stocks.\n",
    "\n",
    "plt.plot(actual_stock_price,color='red',label='Actual Google Stock Price')\n",
    "plt.plot(predicted_stock_price,color='blue',label='Predicted Google Stock Price')\n",
    "plt.title('Google Stock Price Prediction')\n",
    "plt.xlabel('Time')\n",
    "plt.ylabel('Google Stock Price')\n",
    "plt.legend()\n",
    "plt.show()"
   ]
  },
  {
   "cell_type": "code",
   "execution_count": null,
   "id": "64374996",
   "metadata": {},
   "outputs": [],
   "source": []
  }
 ],
 "metadata": {
  "kernelspec": {
   "display_name": "Python 3 (ipykernel)",
   "language": "python",
   "name": "python3"
  },
  "language_info": {
   "codemirror_mode": {
    "name": "ipython",
    "version": 3
   },
   "file_extension": ".py",
   "mimetype": "text/x-python",
   "name": "python",
   "nbconvert_exporter": "python",
   "pygments_lexer": "ipython3",
   "version": "3.9.12"
  }
 },
 "nbformat": 4,
 "nbformat_minor": 5
}
