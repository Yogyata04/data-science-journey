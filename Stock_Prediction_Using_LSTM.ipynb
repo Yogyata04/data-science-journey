{
 "cells": [
  {
   "cell_type": "raw",
   "id": "8552109a",
   "metadata": {},
   "source": [
    "Author : Yogyata Chaubey\n",
    "Aim    : Stock Price Prediction Using Machine Learning\n",
    "Data Science Bharat Intern"
   ]
  },
  {
   "cell_type": "code",
   "execution_count": 24,
   "id": "334e65be",
   "metadata": {},
   "outputs": [],
   "source": [
    "# Importing the required libraries\n",
    "import os\n",
    "import numpy as np\n",
    "import pandas as pd\n",
    "import matplotlib.pyplot as plt \n",
    "%matplotlib inline"
   ]
  },
  {
   "cell_type": "code",
   "execution_count": 25,
   "id": "cf81eb2d",
   "metadata": {},
   "outputs": [],
   "source": [
    "# Loading the training Dataset\n",
    "dataset_train = pd.read_csv(\"C:/Users/Archana/Desktop/NFLX.csv\")\n"
   ]
  },
  {
   "cell_type": "code",
   "execution_count": 26,
   "id": "ef88bcab",
   "metadata": {},
   "outputs": [
    {
     "data": {
      "text/html": [
       "<div>\n",
       "<style scoped>\n",
       "    .dataframe tbody tr th:only-of-type {\n",
       "        vertical-align: middle;\n",
       "    }\n",
       "\n",
       "    .dataframe tbody tr th {\n",
       "        vertical-align: top;\n",
       "    }\n",
       "\n",
       "    .dataframe thead th {\n",
       "        text-align: right;\n",
       "    }\n",
       "</style>\n",
       "<table border=\"1\" class=\"dataframe\">\n",
       "  <thead>\n",
       "    <tr style=\"text-align: right;\">\n",
       "      <th></th>\n",
       "      <th>Date</th>\n",
       "      <th>Open</th>\n",
       "      <th>High</th>\n",
       "      <th>Low</th>\n",
       "      <th>Close</th>\n",
       "      <th>Adj Close</th>\n",
       "      <th>Volume</th>\n",
       "    </tr>\n",
       "  </thead>\n",
       "  <tbody>\n",
       "    <tr>\n",
       "      <th>0</th>\n",
       "      <td>05-02-2018</td>\n",
       "      <td>262.000000</td>\n",
       "      <td>267.899994</td>\n",
       "      <td>250.029999</td>\n",
       "      <td>254.259995</td>\n",
       "      <td>254.259995</td>\n",
       "      <td>11896100</td>\n",
       "    </tr>\n",
       "    <tr>\n",
       "      <th>1</th>\n",
       "      <td>06-02-2018</td>\n",
       "      <td>247.699997</td>\n",
       "      <td>266.700012</td>\n",
       "      <td>245.000000</td>\n",
       "      <td>265.720001</td>\n",
       "      <td>265.720001</td>\n",
       "      <td>12595800</td>\n",
       "    </tr>\n",
       "    <tr>\n",
       "      <th>2</th>\n",
       "      <td>07-02-2018</td>\n",
       "      <td>266.579987</td>\n",
       "      <td>272.450012</td>\n",
       "      <td>264.329987</td>\n",
       "      <td>264.559998</td>\n",
       "      <td>264.559998</td>\n",
       "      <td>8981500</td>\n",
       "    </tr>\n",
       "    <tr>\n",
       "      <th>3</th>\n",
       "      <td>08-02-2018</td>\n",
       "      <td>267.079987</td>\n",
       "      <td>267.619995</td>\n",
       "      <td>250.000000</td>\n",
       "      <td>250.100006</td>\n",
       "      <td>250.100006</td>\n",
       "      <td>9306700</td>\n",
       "    </tr>\n",
       "    <tr>\n",
       "      <th>4</th>\n",
       "      <td>09-02-2018</td>\n",
       "      <td>253.850006</td>\n",
       "      <td>255.800003</td>\n",
       "      <td>236.110001</td>\n",
       "      <td>249.470001</td>\n",
       "      <td>249.470001</td>\n",
       "      <td>16906900</td>\n",
       "    </tr>\n",
       "  </tbody>\n",
       "</table>\n",
       "</div>"
      ],
      "text/plain": [
       "         Date        Open        High         Low       Close   Adj Close  \\\n",
       "0  05-02-2018  262.000000  267.899994  250.029999  254.259995  254.259995   \n",
       "1  06-02-2018  247.699997  266.700012  245.000000  265.720001  265.720001   \n",
       "2  07-02-2018  266.579987  272.450012  264.329987  264.559998  264.559998   \n",
       "3  08-02-2018  267.079987  267.619995  250.000000  250.100006  250.100006   \n",
       "4  09-02-2018  253.850006  255.800003  236.110001  249.470001  249.470001   \n",
       "\n",
       "     Volume  \n",
       "0  11896100  \n",
       "1  12595800  \n",
       "2   8981500  \n",
       "3   9306700  \n",
       "4  16906900  "
      ]
     },
     "execution_count": 26,
     "metadata": {},
     "output_type": "execute_result"
    }
   ],
   "source": [
    "dataset_train.head()"
   ]
  },
  {
   "cell_type": "code",
   "execution_count": 27,
   "id": "e86e21f5",
   "metadata": {},
   "outputs": [
    {
     "data": {
      "text/html": [
       "<div>\n",
       "<style scoped>\n",
       "    .dataframe tbody tr th:only-of-type {\n",
       "        vertical-align: middle;\n",
       "    }\n",
       "\n",
       "    .dataframe tbody tr th {\n",
       "        vertical-align: top;\n",
       "    }\n",
       "\n",
       "    .dataframe thead th {\n",
       "        text-align: right;\n",
       "    }\n",
       "</style>\n",
       "<table border=\"1\" class=\"dataframe\">\n",
       "  <thead>\n",
       "    <tr style=\"text-align: right;\">\n",
       "      <th></th>\n",
       "      <th>Date</th>\n",
       "      <th>Open</th>\n",
       "      <th>High</th>\n",
       "      <th>Low</th>\n",
       "      <th>Close</th>\n",
       "      <th>Adj Close</th>\n",
       "      <th>Volume</th>\n",
       "    </tr>\n",
       "  </thead>\n",
       "  <tbody>\n",
       "    <tr>\n",
       "      <th>1004</th>\n",
       "      <td>31-01-2022</td>\n",
       "      <td>401.970001</td>\n",
       "      <td>427.700012</td>\n",
       "      <td>398.200012</td>\n",
       "      <td>427.140015</td>\n",
       "      <td>427.140015</td>\n",
       "      <td>20047500</td>\n",
       "    </tr>\n",
       "    <tr>\n",
       "      <th>1005</th>\n",
       "      <td>01-02-2022</td>\n",
       "      <td>432.959991</td>\n",
       "      <td>458.480011</td>\n",
       "      <td>425.540009</td>\n",
       "      <td>457.130005</td>\n",
       "      <td>457.130005</td>\n",
       "      <td>22542300</td>\n",
       "    </tr>\n",
       "    <tr>\n",
       "      <th>1006</th>\n",
       "      <td>02-02-2022</td>\n",
       "      <td>448.250000</td>\n",
       "      <td>451.980011</td>\n",
       "      <td>426.480011</td>\n",
       "      <td>429.480011</td>\n",
       "      <td>429.480011</td>\n",
       "      <td>14346000</td>\n",
       "    </tr>\n",
       "    <tr>\n",
       "      <th>1007</th>\n",
       "      <td>03-02-2022</td>\n",
       "      <td>421.440002</td>\n",
       "      <td>429.260010</td>\n",
       "      <td>404.279999</td>\n",
       "      <td>405.600006</td>\n",
       "      <td>405.600006</td>\n",
       "      <td>9905200</td>\n",
       "    </tr>\n",
       "    <tr>\n",
       "      <th>1008</th>\n",
       "      <td>04-02-2022</td>\n",
       "      <td>407.309998</td>\n",
       "      <td>412.769989</td>\n",
       "      <td>396.640015</td>\n",
       "      <td>410.170013</td>\n",
       "      <td>410.170013</td>\n",
       "      <td>7782400</td>\n",
       "    </tr>\n",
       "  </tbody>\n",
       "</table>\n",
       "</div>"
      ],
      "text/plain": [
       "            Date        Open        High         Low       Close   Adj Close  \\\n",
       "1004  31-01-2022  401.970001  427.700012  398.200012  427.140015  427.140015   \n",
       "1005  01-02-2022  432.959991  458.480011  425.540009  457.130005  457.130005   \n",
       "1006  02-02-2022  448.250000  451.980011  426.480011  429.480011  429.480011   \n",
       "1007  03-02-2022  421.440002  429.260010  404.279999  405.600006  405.600006   \n",
       "1008  04-02-2022  407.309998  412.769989  396.640015  410.170013  410.170013   \n",
       "\n",
       "        Volume  \n",
       "1004  20047500  \n",
       "1005  22542300  \n",
       "1006  14346000  \n",
       "1007   9905200  \n",
       "1008   7782400  "
      ]
     },
     "execution_count": 27,
     "metadata": {},
     "output_type": "execute_result"
    }
   ],
   "source": [
    "dataset_train.tail()"
   ]
  },
  {
   "cell_type": "code",
   "execution_count": 28,
   "id": "0edc715d",
   "metadata": {},
   "outputs": [
    {
     "name": "stdout",
     "output_type": "stream",
     "text": [
      "<class 'pandas.core.frame.DataFrame'>\n",
      "RangeIndex: 1009 entries, 0 to 1008\n",
      "Data columns (total 7 columns):\n",
      " #   Column     Non-Null Count  Dtype  \n",
      "---  ------     --------------  -----  \n",
      " 0   Date       1009 non-null   object \n",
      " 1   Open       1009 non-null   float64\n",
      " 2   High       1009 non-null   float64\n",
      " 3   Low        1009 non-null   float64\n",
      " 4   Close      1009 non-null   float64\n",
      " 5   Adj Close  1009 non-null   float64\n",
      " 6   Volume     1009 non-null   int64  \n",
      "dtypes: float64(5), int64(1), object(1)\n",
      "memory usage: 55.3+ KB\n"
     ]
    }
   ],
   "source": [
    "dataset_train.info()"
   ]
  },
  {
   "cell_type": "code",
   "execution_count": 29,
   "id": "19d7c7ce",
   "metadata": {},
   "outputs": [
    {
     "data": {
      "text/html": [
       "<div>\n",
       "<style scoped>\n",
       "    .dataframe tbody tr th:only-of-type {\n",
       "        vertical-align: middle;\n",
       "    }\n",
       "\n",
       "    .dataframe tbody tr th {\n",
       "        vertical-align: top;\n",
       "    }\n",
       "\n",
       "    .dataframe thead th {\n",
       "        text-align: right;\n",
       "    }\n",
       "</style>\n",
       "<table border=\"1\" class=\"dataframe\">\n",
       "  <thead>\n",
       "    <tr style=\"text-align: right;\">\n",
       "      <th></th>\n",
       "      <th>Open</th>\n",
       "      <th>High</th>\n",
       "      <th>Low</th>\n",
       "      <th>Close</th>\n",
       "      <th>Adj Close</th>\n",
       "      <th>Volume</th>\n",
       "    </tr>\n",
       "  </thead>\n",
       "  <tbody>\n",
       "    <tr>\n",
       "      <th>count</th>\n",
       "      <td>1009.000000</td>\n",
       "      <td>1009.000000</td>\n",
       "      <td>1009.000000</td>\n",
       "      <td>1009.000000</td>\n",
       "      <td>1009.000000</td>\n",
       "      <td>1.009000e+03</td>\n",
       "    </tr>\n",
       "    <tr>\n",
       "      <th>mean</th>\n",
       "      <td>419.059673</td>\n",
       "      <td>425.320703</td>\n",
       "      <td>412.374044</td>\n",
       "      <td>419.000733</td>\n",
       "      <td>419.000733</td>\n",
       "      <td>7.570685e+06</td>\n",
       "    </tr>\n",
       "    <tr>\n",
       "      <th>std</th>\n",
       "      <td>108.537532</td>\n",
       "      <td>109.262960</td>\n",
       "      <td>107.555867</td>\n",
       "      <td>108.289999</td>\n",
       "      <td>108.289999</td>\n",
       "      <td>5.465535e+06</td>\n",
       "    </tr>\n",
       "    <tr>\n",
       "      <th>min</th>\n",
       "      <td>233.919998</td>\n",
       "      <td>250.649994</td>\n",
       "      <td>231.229996</td>\n",
       "      <td>233.880005</td>\n",
       "      <td>233.880005</td>\n",
       "      <td>1.144000e+06</td>\n",
       "    </tr>\n",
       "    <tr>\n",
       "      <th>25%</th>\n",
       "      <td>331.489990</td>\n",
       "      <td>336.299988</td>\n",
       "      <td>326.000000</td>\n",
       "      <td>331.619995</td>\n",
       "      <td>331.619995</td>\n",
       "      <td>4.091900e+06</td>\n",
       "    </tr>\n",
       "    <tr>\n",
       "      <th>50%</th>\n",
       "      <td>377.769989</td>\n",
       "      <td>383.010010</td>\n",
       "      <td>370.880005</td>\n",
       "      <td>378.670013</td>\n",
       "      <td>378.670013</td>\n",
       "      <td>5.934500e+06</td>\n",
       "    </tr>\n",
       "    <tr>\n",
       "      <th>75%</th>\n",
       "      <td>509.130005</td>\n",
       "      <td>515.630005</td>\n",
       "      <td>502.529999</td>\n",
       "      <td>509.079987</td>\n",
       "      <td>509.079987</td>\n",
       "      <td>9.322400e+06</td>\n",
       "    </tr>\n",
       "    <tr>\n",
       "      <th>max</th>\n",
       "      <td>692.349976</td>\n",
       "      <td>700.989990</td>\n",
       "      <td>686.090027</td>\n",
       "      <td>691.690002</td>\n",
       "      <td>691.690002</td>\n",
       "      <td>5.890430e+07</td>\n",
       "    </tr>\n",
       "  </tbody>\n",
       "</table>\n",
       "</div>"
      ],
      "text/plain": [
       "              Open         High          Low        Close    Adj Close  \\\n",
       "count  1009.000000  1009.000000  1009.000000  1009.000000  1009.000000   \n",
       "mean    419.059673   425.320703   412.374044   419.000733   419.000733   \n",
       "std     108.537532   109.262960   107.555867   108.289999   108.289999   \n",
       "min     233.919998   250.649994   231.229996   233.880005   233.880005   \n",
       "25%     331.489990   336.299988   326.000000   331.619995   331.619995   \n",
       "50%     377.769989   383.010010   370.880005   378.670013   378.670013   \n",
       "75%     509.130005   515.630005   502.529999   509.079987   509.079987   \n",
       "max     692.349976   700.989990   686.090027   691.690002   691.690002   \n",
       "\n",
       "             Volume  \n",
       "count  1.009000e+03  \n",
       "mean   7.570685e+06  \n",
       "std    5.465535e+06  \n",
       "min    1.144000e+06  \n",
       "25%    4.091900e+06  \n",
       "50%    5.934500e+06  \n",
       "75%    9.322400e+06  \n",
       "max    5.890430e+07  "
      ]
     },
     "execution_count": 29,
     "metadata": {},
     "output_type": "execute_result"
    }
   ],
   "source": [
    "dataset_train.describe()"
   ]
  },
  {
   "cell_type": "code",
   "execution_count": 30,
   "id": "84115a7a",
   "metadata": {},
   "outputs": [
    {
     "data": {
      "text/plain": [
       "Date         0\n",
       "Open         0\n",
       "High         0\n",
       "Low          0\n",
       "Close        0\n",
       "Adj Close    0\n",
       "Volume       0\n",
       "dtype: int64"
      ]
     },
     "execution_count": 30,
     "metadata": {},
     "output_type": "execute_result"
    }
   ],
   "source": [
    "dataset_train.isnull().sum()"
   ]
  },
  {
   "cell_type": "code",
   "execution_count": 31,
   "id": "471719c0",
   "metadata": {},
   "outputs": [
    {
     "name": "stdout",
     "output_type": "stream",
     "text": [
      "            Date        Open        High         Low       Close   Adj Close  \\\n",
      "0     05-02-2018  262.000000  267.899994  250.029999  254.259995  254.259995   \n",
      "1     06-02-2018  247.699997  266.700012  245.000000  265.720001  265.720001   \n",
      "2     07-02-2018  266.579987  272.450012  264.329987  264.559998  264.559998   \n",
      "3     08-02-2018  267.079987  267.619995  250.000000  250.100006  250.100006   \n",
      "4     09-02-2018  253.850006  255.800003  236.110001  249.470001  249.470001   \n",
      "...          ...         ...         ...         ...         ...         ...   \n",
      "1004  31-01-2022  401.970001  427.700012  398.200012  427.140015  427.140015   \n",
      "1005  01-02-2022  432.959991  458.480011  425.540009  457.130005  457.130005   \n",
      "1006  02-02-2022  448.250000  451.980011  426.480011  429.480011  429.480011   \n",
      "1007  03-02-2022  421.440002  429.260010  404.279999  405.600006  405.600006   \n",
      "1008  04-02-2022  407.309998  412.769989  396.640015  410.170013  410.170013   \n",
      "\n",
      "        Volume  \n",
      "0     11896100  \n",
      "1     12595800  \n",
      "2      8981500  \n",
      "3      9306700  \n",
      "4     16906900  \n",
      "...        ...  \n",
      "1004  20047500  \n",
      "1005  22542300  \n",
      "1006  14346000  \n",
      "1007   9905200  \n",
      "1008   7782400  \n",
      "\n",
      "[1009 rows x 7 columns]\n",
      "(1009, 7)\n"
     ]
    }
   ],
   "source": [
    "# Use the Open Stock Price Column to Train the Model.\n",
    "\n",
    "training_set = dataset_train.iloc[:,1:2].values\n",
    "print(dataset_train)\n",
    "print(dataset_train.shape)"
   ]
  },
  {
   "cell_type": "code",
   "execution_count": 32,
   "id": "45adce8e",
   "metadata": {},
   "outputs": [
    {
     "data": {
      "text/plain": [
       "array([[0.06125254],\n",
       "       [0.03005911],\n",
       "       [0.07124314],\n",
       "       ...,\n",
       "       [0.46753051],\n",
       "       [0.4090483 ],\n",
       "       [0.3782257 ]])"
      ]
     },
     "execution_count": 32,
     "metadata": {},
     "output_type": "execute_result"
    }
   ],
   "source": [
    "# Normalizing the Dataset\n",
    "\n",
    "from sklearn.preprocessing import MinMaxScaler\n",
    "scaler=MinMaxScaler(feature_range=(0,1)) \n",
    "scaled_train_set=scaler.fit_transform(training_set)\n",
    "scaled_train_set"
   ]
  },
  {
   "cell_type": "code",
   "execution_count": 33,
   "id": "1a15ac71",
   "metadata": {},
   "outputs": [],
   "source": [
    "# Creating X_train and y_train Data Structures.\n",
    "\n",
    "X_train=[]\n",
    "y_train=[]\n",
    "for i in range(60,1009):\n",
    "    X_train.append(scaled_train_set[i-60:i,0])\n",
    "    y_train.append(scaled_train_set[i,0])\n",
    "X_train=np.array(X_train)\n",
    "y_train=np.array(y_train)"
   ]
  },
  {
   "cell_type": "code",
   "execution_count": 34,
   "id": "0cde2577",
   "metadata": {},
   "outputs": [
    {
     "name": "stdout",
     "output_type": "stream",
     "text": [
      "(949, 60)\n",
      "(949,)\n"
     ]
    }
   ],
   "source": [
    "print(X_train.shape)\n",
    "print(y_train.shape)"
   ]
  },
  {
   "cell_type": "code",
   "execution_count": 35,
   "id": "b95d7af8",
   "metadata": {},
   "outputs": [
    {
     "data": {
      "text/plain": [
       "(949, 60, 1)"
      ]
     },
     "execution_count": 35,
     "metadata": {},
     "output_type": "execute_result"
    }
   ],
   "source": [
    "# Reshape the Data \n",
    "\n",
    "X_train=np.reshape(X_train,(X_train.shape[0],X_train.shape[1],1))\n",
    "X_train.shape"
   ]
  },
  {
   "cell_type": "code",
   "execution_count": 36,
   "id": "7d9f0484",
   "metadata": {},
   "outputs": [],
   "source": [
    "# Building the Model by Importing the Crucial Libraries and Adding Different Layers to LSTM.\n",
    "\n",
    "from keras.models import Sequential\n",
    "from keras.layers import LSTM \n",
    "from keras.layers import Dense\n",
    "from keras.layers import Dropout"
   ]
  },
  {
   "cell_type": "code",
   "execution_count": 37,
   "id": "01b6da0f",
   "metadata": {},
   "outputs": [],
   "source": [
    "regressor=Sequential()\n",
    "\n",
    "#Adding the first LSTM layer and some Dropout regularisation \n",
    "regressor.add(LSTM(units=50,return_sequences=True,input_shape=(X_train.shape[1],1)))\n",
    "regressor.add(Dropout(0.2))\n",
    "\n",
    "# Adding a second LSTM layer and some Dropout regularisation\n",
    "regressor.add(LSTM(units=50,return_sequences=True))\n",
    "regressor.add(Dropout(0.2))\n",
    "\n",
    "# Adding a third LSTM layer and some Dropout regularisation\n",
    "regressor.add(LSTM(units=50,return_sequences=True))\n",
    "regressor.add(Dropout(0.2))\n",
    "\n",
    "# Adding a fourth LSTM layer and some Dropout regularisation\n",
    "regressor.add(LSTM(units=50))\n",
    "regressor.add(Dropout(0.2))\n",
    "\n",
    "# Adding the output layer\n",
    "regressor.add(Dense(units=1))"
   ]
  },
  {
   "cell_type": "code",
   "execution_count": 38,
   "id": "410d307c",
   "metadata": {},
   "outputs": [
    {
     "name": "stdout",
     "output_type": "stream",
     "text": [
      "Epoch 1/100\n",
      "30/30 [==============================] - 26s 213ms/step - loss: 0.0362\n",
      "Epoch 2/100\n",
      "30/30 [==============================] - 6s 211ms/step - loss: 0.0080\n",
      "Epoch 3/100\n",
      "30/30 [==============================] - 6s 199ms/step - loss: 0.0079\n",
      "Epoch 4/100\n",
      "30/30 [==============================] - 6s 207ms/step - loss: 0.0065\n",
      "Epoch 5/100\n",
      "30/30 [==============================] - 6s 195ms/step - loss: 0.0074\n",
      "Epoch 6/100\n",
      "30/30 [==============================] - 6s 207ms/step - loss: 0.0065\n",
      "Epoch 7/100\n",
      "30/30 [==============================] - 6s 190ms/step - loss: 0.0060\n",
      "Epoch 8/100\n",
      "30/30 [==============================] - 6s 189ms/step - loss: 0.0059\n",
      "Epoch 9/100\n",
      "30/30 [==============================] - 6s 196ms/step - loss: 0.0062\n",
      "Epoch 10/100\n",
      "30/30 [==============================] - 6s 205ms/step - loss: 0.0057\n",
      "Epoch 11/100\n",
      "30/30 [==============================] - 6s 201ms/step - loss: 0.0053\n",
      "Epoch 12/100\n",
      "30/30 [==============================] - 6s 206ms/step - loss: 0.0062\n",
      "Epoch 13/100\n",
      "30/30 [==============================] - 6s 195ms/step - loss: 0.0054\n",
      "Epoch 14/100\n",
      "30/30 [==============================] - 6s 202ms/step - loss: 0.0047\n",
      "Epoch 15/100\n",
      "30/30 [==============================] - 6s 210ms/step - loss: 0.0054\n",
      "Epoch 16/100\n",
      "30/30 [==============================] - 6s 202ms/step - loss: 0.0045\n",
      "Epoch 17/100\n",
      "30/30 [==============================] - 6s 202ms/step - loss: 0.0050\n",
      "Epoch 18/100\n",
      "30/30 [==============================] - 6s 192ms/step - loss: 0.0046\n",
      "Epoch 19/100\n",
      "30/30 [==============================] - 6s 202ms/step - loss: 0.0045\n",
      "Epoch 20/100\n",
      "30/30 [==============================] - 6s 208ms/step - loss: 0.0046\n",
      "Epoch 21/100\n",
      "30/30 [==============================] - 6s 190ms/step - loss: 0.0045\n",
      "Epoch 22/100\n",
      "30/30 [==============================] - 6s 206ms/step - loss: 0.0053\n",
      "Epoch 23/100\n",
      "30/30 [==============================] - 6s 203ms/step - loss: 0.0047\n",
      "Epoch 24/100\n",
      "30/30 [==============================] - 6s 199ms/step - loss: 0.0044\n",
      "Epoch 25/100\n",
      "30/30 [==============================] - 6s 201ms/step - loss: 0.0040\n",
      "Epoch 26/100\n",
      "30/30 [==============================] - 6s 202ms/step - loss: 0.0041\n",
      "Epoch 27/100\n",
      "30/30 [==============================] - 6s 201ms/step - loss: 0.0041\n",
      "Epoch 28/100\n",
      "30/30 [==============================] - 6s 204ms/step - loss: 0.0041\n",
      "Epoch 29/100\n",
      "30/30 [==============================] - 6s 203ms/step - loss: 0.0037\n",
      "Epoch 30/100\n",
      "30/30 [==============================] - 6s 208ms/step - loss: 0.0039\n",
      "Epoch 31/100\n",
      "30/30 [==============================] - 6s 187ms/step - loss: 0.0037\n",
      "Epoch 32/100\n",
      "30/30 [==============================] - 6s 207ms/step - loss: 0.0037\n",
      "Epoch 33/100\n",
      "30/30 [==============================] - 6s 204ms/step - loss: 0.0039\n",
      "Epoch 34/100\n",
      "30/30 [==============================] - 6s 209ms/step - loss: 0.0042\n",
      "Epoch 35/100\n",
      "30/30 [==============================] - 6s 208ms/step - loss: 0.0036\n",
      "Epoch 36/100\n",
      "30/30 [==============================] - 6s 211ms/step - loss: 0.0037\n",
      "Epoch 37/100\n",
      "30/30 [==============================] - 6s 207ms/step - loss: 0.0037\n",
      "Epoch 38/100\n",
      "30/30 [==============================] - 6s 204ms/step - loss: 0.0039\n",
      "Epoch 39/100\n",
      "30/30 [==============================] - 6s 202ms/step - loss: 0.0035\n",
      "Epoch 40/100\n",
      "30/30 [==============================] - 6s 205ms/step - loss: 0.0035\n",
      "Epoch 41/100\n",
      "30/30 [==============================] - 6s 197ms/step - loss: 0.0032\n",
      "Epoch 42/100\n",
      "30/30 [==============================] - 6s 205ms/step - loss: 0.0034\n",
      "Epoch 43/100\n",
      "30/30 [==============================] - 6s 207ms/step - loss: 0.0031\n",
      "Epoch 44/100\n",
      "30/30 [==============================] - 6s 210ms/step - loss: 0.0032\n",
      "Epoch 45/100\n",
      "30/30 [==============================] - 6s 206ms/step - loss: 0.0033\n",
      "Epoch 46/100\n",
      "30/30 [==============================] - 6s 208ms/step - loss: 0.0030\n",
      "Epoch 47/100\n",
      "30/30 [==============================] - 6s 206ms/step - loss: 0.0030\n",
      "Epoch 48/100\n",
      "30/30 [==============================] - 6s 212ms/step - loss: 0.0028\n",
      "Epoch 49/100\n",
      "30/30 [==============================] - 6s 211ms/step - loss: 0.0031\n",
      "Epoch 50/100\n",
      "30/30 [==============================] - 6s 212ms/step - loss: 0.0031\n",
      "Epoch 51/100\n",
      "30/30 [==============================] - 6s 208ms/step - loss: 0.0030\n",
      "Epoch 52/100\n",
      "30/30 [==============================] - 6s 212ms/step - loss: 0.0028\n",
      "Epoch 53/100\n",
      "30/30 [==============================] - 6s 210ms/step - loss: 0.0029\n",
      "Epoch 54/100\n",
      "30/30 [==============================] - 6s 211ms/step - loss: 0.0028\n",
      "Epoch 55/100\n",
      "30/30 [==============================] - 6s 211ms/step - loss: 0.0027\n",
      "Epoch 56/100\n",
      "30/30 [==============================] - 6s 210ms/step - loss: 0.0027\n",
      "Epoch 57/100\n",
      "30/30 [==============================] - 6s 212ms/step - loss: 0.0031\n",
      "Epoch 58/100\n",
      "30/30 [==============================] - 6s 210ms/step - loss: 0.0028\n",
      "Epoch 59/100\n",
      "30/30 [==============================] - 6s 206ms/step - loss: 0.0026\n",
      "Epoch 60/100\n",
      "30/30 [==============================] - 6s 210ms/step - loss: 0.0027\n",
      "Epoch 61/100\n",
      "30/30 [==============================] - 6s 206ms/step - loss: 0.0023\n",
      "Epoch 62/100\n",
      "30/30 [==============================] - 6s 205ms/step - loss: 0.0024\n",
      "Epoch 63/100\n",
      "30/30 [==============================] - 6s 209ms/step - loss: 0.0022\n",
      "Epoch 64/100\n",
      "30/30 [==============================] - 6s 212ms/step - loss: 0.0023\n",
      "Epoch 65/100\n",
      "30/30 [==============================] - 6s 213ms/step - loss: 0.0021\n",
      "Epoch 66/100\n",
      "30/30 [==============================] - 6s 209ms/step - loss: 0.0023\n",
      "Epoch 67/100\n",
      "30/30 [==============================] - 6s 211ms/step - loss: 0.0025\n",
      "Epoch 68/100\n",
      "30/30 [==============================] - 6s 208ms/step - loss: 0.0023\n",
      "Epoch 69/100\n",
      "30/30 [==============================] - 6s 215ms/step - loss: 0.0023\n",
      "Epoch 70/100\n",
      "30/30 [==============================] - 6s 214ms/step - loss: 0.0022\n",
      "Epoch 71/100\n",
      "30/30 [==============================] - 6s 215ms/step - loss: 0.0021\n",
      "Epoch 72/100\n",
      "30/30 [==============================] - 6s 215ms/step - loss: 0.0022\n",
      "Epoch 73/100\n",
      "30/30 [==============================] - 6s 215ms/step - loss: 0.0020\n",
      "Epoch 74/100\n",
      "30/30 [==============================] - 6s 214ms/step - loss: 0.0022\n",
      "Epoch 75/100\n",
      "30/30 [==============================] - 6s 212ms/step - loss: 0.0025\n",
      "Epoch 76/100\n",
      "30/30 [==============================] - 6s 210ms/step - loss: 0.0018\n",
      "Epoch 77/100\n",
      "30/30 [==============================] - 6s 211ms/step - loss: 0.0021\n",
      "Epoch 78/100\n",
      "30/30 [==============================] - 6s 209ms/step - loss: 0.0021\n",
      "Epoch 79/100\n",
      "30/30 [==============================] - 6s 209ms/step - loss: 0.0020\n",
      "Epoch 80/100\n",
      "30/30 [==============================] - 6s 212ms/step - loss: 0.0019\n",
      "Epoch 81/100\n",
      "30/30 [==============================] - 6s 210ms/step - loss: 0.0020\n",
      "Epoch 82/100\n",
      "30/30 [==============================] - 6s 212ms/step - loss: 0.0020\n",
      "Epoch 83/100\n",
      "30/30 [==============================] - 6s 212ms/step - loss: 0.0022\n",
      "Epoch 84/100\n",
      "30/30 [==============================] - 6s 212ms/step - loss: 0.0019\n",
      "Epoch 85/100\n",
      "30/30 [==============================] - 6s 213ms/step - loss: 0.0017\n",
      "Epoch 86/100\n",
      "30/30 [==============================] - 6s 210ms/step - loss: 0.0018\n",
      "Epoch 87/100\n",
      "30/30 [==============================] - 6s 206ms/step - loss: 0.0019\n",
      "Epoch 88/100\n",
      "30/30 [==============================] - 6s 210ms/step - loss: 0.0020\n",
      "Epoch 89/100\n",
      "30/30 [==============================] - 6s 211ms/step - loss: 0.0018\n",
      "Epoch 90/100\n",
      "30/30 [==============================] - 6s 211ms/step - loss: 0.0017\n",
      "Epoch 91/100\n",
      "30/30 [==============================] - 6s 210ms/step - loss: 0.0020\n",
      "Epoch 92/100\n",
      "30/30 [==============================] - 6s 203ms/step - loss: 0.0018\n",
      "Epoch 93/100\n",
      "30/30 [==============================] - 6s 207ms/step - loss: 0.0018\n",
      "Epoch 94/100\n",
      "30/30 [==============================] - 6s 193ms/step - loss: 0.0018\n",
      "Epoch 95/100\n",
      "30/30 [==============================] - 6s 204ms/step - loss: 0.0018\n",
      "Epoch 96/100\n",
      "30/30 [==============================] - 6s 214ms/step - loss: 0.0017\n",
      "Epoch 97/100\n",
      "30/30 [==============================] - 6s 211ms/step - loss: 0.0018\n",
      "Epoch 98/100\n",
      "30/30 [==============================] - 6s 209ms/step - loss: 0.0018\n",
      "Epoch 99/100\n",
      "30/30 [==============================] - 6s 211ms/step - loss: 0.0019\n",
      "Epoch 100/100\n",
      "30/30 [==============================] - 6s 212ms/step - loss: 0.0016\n"
     ]
    },
    {
     "data": {
      "text/plain": [
       "<keras.callbacks.History at 0x1ddf7c30970>"
      ]
     },
     "execution_count": 38,
     "metadata": {},
     "output_type": "execute_result"
    }
   ],
   "source": [
    "# Compiling the RNN(Recurrent Neural Networks)\n",
    "regressor.compile(optimizer='adam',loss='mean_squared_error')\n",
    "\n",
    "# Fitting the RNN to the Training set\n",
    "regressor.fit(X_train,y_train,epochs=100,batch_size=32)"
   ]
  },
  {
   "cell_type": "code",
   "execution_count": 43,
   "id": "5b2e0687",
   "metadata": {},
   "outputs": [],
   "source": [
    "# Extracting the Actual Stock Prices.\n",
    "\n",
    "dataset_test= pd.read_csv(\"C:/Users/Archana/Desktop/NFLX.csv\")\n",
    "a_s_p=dataset_test.iloc[:,1:2].values\n"
   ]
  },
  {
   "cell_type": "code",
   "execution_count": 51,
   "id": "80c9afd9",
   "metadata": {},
   "outputs": [],
   "source": [
    "# Preparing the Input for the Model\n",
    "\n",
    "df_total=pd.concat((dataset_train['Open'],dataset_test['Open']),axis=0) \n",
    "inputs=df_total[len(df_total)-len(dataset_test)-60].values \n",
    "\n",
    "inputs=inputs.reshape(-1,1)\n",
    "inputs=scaler.transform(inputs)\n",
    "features_set=[]\n",
    "X_test=[]\n",
    "for i in range(60,80):\n",
    "    X_test.append(inputs[i-60:i,0])"
   ]
  },
  {
   "cell_type": "code",
   "execution_count": 52,
   "id": "ec63aa73",
   "metadata": {},
   "outputs": [
    {
     "name": "stdout",
     "output_type": "stream",
     "text": [
      "Number of rows and columns:  (20, 1)\n"
     ]
    },
    {
     "name": "stderr",
     "output_type": "stream",
     "text": [
      "C:\\Users\\Archana\\AppData\\Local\\Temp\\ipykernel_5760\\1473771049.py:1: VisibleDeprecationWarning: Creating an ndarray from ragged nested sequences (which is a list-or-tuple of lists-or-tuples-or ndarrays with different lengths or shapes) is deprecated. If you meant to do this, you must specify 'dtype=object' when creating the ndarray.\n",
      "  features_set,X_test=(scaled_train_set),np.array(X_test)\n"
     ]
    }
   ],
   "source": [
    "features_set,X_test=(scaled_train_set),np.array(X_test)\n",
    "X_test=np.reshape(X_test,(X_test.shape[0],1)) \n",
    "X_test\n"
   ]
  },
  {
   "cell_type": "code",
   "execution_count": 22,
   "id": "e355d0da",
   "metadata": {},
   "outputs": [
    {
     "name": "stdout",
     "output_type": "stream",
     "text": [
      "32/32 [==============================] - 4s 6ms/step\n"
     ]
    }
   ],
   "source": [
    "# Making predictions using the test dataset\n",
    "\n",
    "predicted_stock_price=regressor.predict(features_set)\n",
    "predicted_stock_price=scaler.inverse_transform(predicted_stock_price)"
   ]
  },
  {
   "cell_type": "code",
   "execution_count": 23,
   "id": "8671937b",
   "metadata": {},
   "outputs": [
    {
     "data": {
      "text/plain": [
       "<matplotlib.legend.Legend at 0x1ddf56378b0>"
      ]
     },
     "execution_count": 23,
     "metadata": {},
     "output_type": "execute_result"
    },
    {
     "data": {
      "image/png": "[encoded data removed]",
      "text/plain": [
       "<Figure size 432x288 with 1 Axes>"
      ]
     },
     "metadata": {
      "needs_background": "light"
     },
     "output_type": "display_data"
    }
   ],
   "source": [
    "# Visualization\n",
    "plt.plot(a_s_p,color='red',label='Actual Netflix Stock Price')\n",
    "plt.plot(predicted_stock_price,color='blue',label='Predicted NetFlix Stock Price')\n",
    "plt.title('NetFlix Stock Price Prediction')\n",
    "plt.xlabel('Time')\n",
    "plt.ylabel('Netflix Stock Price')\n",
    "plt.legend()"
   ]
  },
  {
   "cell_type": "code",
   "execution_count": null,
   "id": "85bdd843",
   "metadata": {},
   "outputs": [],
   "source": []
  }
 ],
 "metadata": {
  "kernelspec": {
   "display_name": "Python 3 (ipykernel)",
   "language": "python",
   "name": "python3"
  },
  "language_info": {
   "codemirror_mode": {
    "name": "ipython",
    "version": 3
   },
   "file_extension": ".py",
   "mimetype": "text/x-python",
   "name": "python",
   "nbconvert_exporter": "python",
   "pygments_lexer": "ipython3",
   "version": "3.9.12"
  }
 },
 "nbformat": 4,
 "nbformat_minor": 5
}
